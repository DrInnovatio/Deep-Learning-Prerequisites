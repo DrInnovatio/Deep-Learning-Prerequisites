{
  "nbformat": 4,
  "nbformat_minor": 0,
  "metadata": {
    "colab": {
      "name": "numpy_advanced.ipynb",
      "provenance": [],
      "authorship_tag": "ABX9TyNPwU3wZy/HiQ1pjj8UlzMp",
      "include_colab_link": true
    },
    "kernelspec": {
      "name": "python3",
      "display_name": "Python 3"
    }
  },
  "cells": [
    {
      "cell_type": "markdown",
      "metadata": {
        "id": "view-in-github",
        "colab_type": "text"
      },
      "source": [
        "<a href=\"https://colab.research.google.com/github/DrInnovatio/Deep-Learning-Prerequisites/blob/main/numpy_advanced.ipynb\" target=\"_parent\"><img src=\"https://colab.research.google.com/assets/colab-badge.svg\" alt=\"Open In Colab\"/></a>"
      ]
    },
    {
      "cell_type": "code",
      "metadata": {
        "colab": {
          "base_uri": "https://localhost:8080/"
        },
        "id": "9GWET1de1mZv",
        "outputId": "751da40e-402a-45b0-92ae-9158352f58a8"
      },
      "source": [
        "print(\"New file created from Colab\")"
      ],
      "execution_count": 1,
      "outputs": [
        {
          "output_type": "stream",
          "text": [
            "New file created from Colab\n"
          ],
          "name": "stdout"
        }
      ]
    }
  ]
}