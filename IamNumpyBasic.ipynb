{
  "nbformat": 4,
  "nbformat_minor": 0,
  "metadata": {
    "colab": {
      "name": "IamNumpyBasic.ipynb",
      "provenance": [],
      "collapsed_sections": [],
      "authorship_tag": "ABX9TyMzrSsNS/LkyvpgzyxQaVbH",
      "include_colab_link": true
    },
    "kernelspec": {
      "name": "python3",
      "display_name": "Python 3"
    }
  },
  "cells": [
    {
      "cell_type": "markdown",
      "metadata": {
        "id": "view-in-github",
        "colab_type": "text"
      },
      "source": [
        "<a href=\"https://colab.research.google.com/github/DrInnovatio/Deep-Learning-Prerequisites/blob/main/IamNumpyBasic.ipynb\" target=\"_parent\"><img src=\"https://colab.research.google.com/assets/colab-badge.svg\" alt=\"Open In Colab\"/></a>"
      ]
    },
    {
      "cell_type": "code",
      "metadata": {
        "id": "6QdYPc_J8pxh"
      },
      "source": [
        "import numpy as np\n",
        "# creating an vector\n",
        "\n",
        "array_1 = np.arange(4)\n",
        "print(array_1)\n",
        "\n",
        "array_2 = np.zeros((4,4), dtype=float)\n",
        "print(array_2)\n",
        "\n",
        "array_3 = np.ones((4,4), dtype=str)\n",
        "print(array_3)\n",
        "\n",
        "# An array from 0 to 9 with random numbers.\n",
        "array_4 = np.random.randint(0, 10, (4, 4))\n",
        "print(array_4)\n",
        "\n",
        "array_5 = np.random.normal(0, 1, (3, 3))\n",
        "print(array_5)"
      ],
      "execution_count": null,
      "outputs": []
    },
    {
      "cell_type": "code",
      "metadata": {
        "id": "h08gO40hAqCN"
      },
      "source": [
        " array_1 = np.array([1,2,3])\n",
        " array_2 = np.array([4,5,6])\n",
        " array_3 = np.concatenate([array_1, array_2])\n",
        " print(array_3)\n",
        " print(array_3.shape)"
      ],
      "execution_count": null,
      "outputs": []
    },
    {
      "cell_type": "code",
      "metadata": {
        "colab": {
          "base_uri": "https://localhost:8080/"
        },
        "id": "JlZH1pDCBNJ4",
        "outputId": "448d5fa9-c83e-4943-db2e-36bfac037a6e"
      },
      "source": [
        "array_1 = np.array([1,2,3,4])\n",
        "array_2 = array_1.reshape((2, 2))\n",
        "print(array_2)"
      ],
      "execution_count": 14,
      "outputs": [
        {
          "output_type": "stream",
          "text": [
            "[['root' '2']\n",
            " ['add' '4']]\n"
          ],
          "name": "stdout"
        }
      ]
    },
    {
      "cell_type": "code",
      "metadata": {
        "id": "uKPWv1DVB1pV"
      },
      "source": [
        "array_1 = np.arange(4).reshape(1, 4)\n",
        "array_2 = np.arange(8).reshape(2, 4)\n",
        "print(array_1)\n",
        "print(array_2)\n",
        "array_3 = np.concatenate([array_1, array_2], axis=0)\n",
        "print(array_3)"
      ],
      "execution_count": null,
      "outputs": []
    },
    {
      "cell_type": "code",
      "metadata": {
        "id": "aBpS-ukMCdS_"
      },
      "source": [
        "# Separate the array\n",
        "array = np.arange(8).reshape(2, 4)\n",
        "left, right = np.split(array, [2], axis=1)\n",
        "print(left.shape)\n",
        "print(right.shape)\n",
        "print(array)\n",
        "print(left)\n",
        "print(right)\n",
        "print(right[1][1])"
      ],
      "execution_count": null,
      "outputs": []
    }
  ]
}